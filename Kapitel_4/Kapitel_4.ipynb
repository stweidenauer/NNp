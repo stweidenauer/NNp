{
 "cells": [
  {
   "cell_type": "markdown",
   "metadata": {},
   "source": [
    "## Listing 4.1"
   ]
  },
  {
   "cell_type": "code",
   "execution_count": 12,
   "metadata": {},
   "outputs": [
    {
     "name": "stdout",
     "output_type": "stream",
     "text": [
      "Gewichtsvektor am Ende des Trainings:\n",
      "[-1.  1.  1.]\n",
      "Auswertung am Ende des Trainings:\n",
      "[1 0 0]: 0 -> 0\n",
      "[1 0 1]: 1 -> 1\n",
      "[1 1 0]: 1 -> 1\n",
      "[1 1 1]: 1 -> 1\n"
     ]
    },
    {
     "data": {
      "image/png": "[encoded data removed]",
      "text/plain": [
       "<Figure size 720x720 with 1 Axes>"
      ]
     },
     "metadata": {
      "needs_background": "light"
     },
     "output_type": "display_data"
    }
   ],
   "source": [
    "import matplotlib.pyplot as plt\n",
    "# für Zufallszahlen\n",
    "from random import choice\n",
    "from numpy import array, dot, zeros, random\n",
    "# für plotanzeige im JNB\n",
    "%matplotlib inline\n",
    "\n",
    "# heaviside als lambda\n",
    "heaviside = lambda x : 0 if x < 0 else 1\n",
    "\n",
    "def fit(iterations, training_data_set, w):\n",
    "    \"\"\" Lernen im Perceptron \n",
    "    iterations: Ein Vorwärts- und Rückwärtslauf aller Trainingsbeispiele\n",
    "    trainings_data_set: Die Trainingsbeispiele\n",
    "    w: Die Gewichte zum Starten\n",
    "    \"\"\"\n",
    "\n",
    "    errors = []\n",
    "    weights = []\n",
    "\n",
    "    for i in range(iterations):\n",
    "        # zufällige Auswahl eines Trainingsbeispiels random.choice\n",
    "        # ein Vector!\n",
    "        training_data = choice(training_data_set)\n",
    "        x = training_data[0] \n",
    "        y = training_data[1]\n",
    "\n",
    "        # Output errechnen: Gewichtete Summe und Stufenfunktion\n",
    "        y_hat = heaviside(dot(w, x))\n",
    "\n",
    "        # Fehler berechnen und sammeln\n",
    "        error = y - y_hat\n",
    "        errors.append(error)\n",
    "\n",
    "        # Gewichte sammeln für spätere Ausgabe\n",
    "        weights.append(w)\n",
    "        # Gewichtsanpassung = Das Lernen… x_i ist entweder 0 oder 1\n",
    "        w += error * x\n",
    "       \n",
    "    return errors, weights\n",
    "\n",
    "\n",
    "def main():\n",
    "    \"\"\" Hauptprogramm\n",
    "    Hier werden die einzelnen Bausteine zusammengesetzt\n",
    "    \"\"\"\n",
    "    # Trainingsdaten: jede Zeile ein Tupel mit input-Vector, gewünschtem Ergebnis\n",
    "    # An der Indexposition 0 des Inputvektors ist das Bias Neuron\n",
    "    training_data_set = [\n",
    "        (array([1,0,0]), 0),\n",
    "        (array([1,0,1]), 1),\n",
    "        (array([1,1,0]), 1),\n",
    "        (array([1,1,1]), 1),\n",
    "    ]\n",
    "\n",
    "    # Reproduzierbarkeit der Ergebnisse\n",
    "    random.seed( 12 ) # irgendein Wert\n",
    "\n",
    "    # Array von Länge 3 mit 0 initialisieren\n",
    "    w = zeros(3)\n",
    "    # Die Anzahl der Durchläufe. Erfahrungswert durch Probieren\n",
    "    iterations = 30\n",
    "\n",
    "    # Trainieren mit fit()\n",
    "    # Wir sammeln die Fehler/Gewichte in jedem Schritt für die grafische Ausgabe\n",
    "    errors, weights = fit(iterations, training_data_set, w) \n",
    "    # Den letzten Gewichtsvektor ausgeben\n",
    "    w = weights[iterations-1]\n",
    "    print(\"Gewichtsvektor am Ende des Trainings:\")\n",
    "    print(w)\n",
    "\n",
    "    # Auswertung nach dem Trainieren\n",
    "    print(\"Auswertung am Ende des Trainings:\")\n",
    "    for x, y in training_data_set:\n",
    "        y_hat = heaviside(dot(x, w))\n",
    "        print(F\"{x}: {y} -> {y_hat}\") \n",
    "\n",
    "    # Grafik für Fehler pro Lernbeispiel :-)  \n",
    "    # Figure Nummern Start\n",
    "    fignr = 1\n",
    "    # Druckgröße in inch\n",
    "    plt.figure(fignr,figsize=(10,10))\n",
    "    # Ausgabe Fehler als Plot\n",
    "    plt.plot(errors)\n",
    "    # Raster\n",
    "    plt.style.use('seaborn-whitegrid')  \n",
    "    # Labels\n",
    "    plt.xlabel('Iteration')\n",
    "    # Label der y-Achse mit Hilfe von LaTex\n",
    "    plt.ylabel(r\"$(y - \\hat y)$\")\n",
    "    # Plot anzeigen\n",
    "    plt.show()    \n",
    "\n",
    "# Hauptprogramm \n",
    "main()\n"
   ]
  },
  {
   "cell_type": "code",
   "execution_count": null,
   "metadata": {},
   "outputs": [],
   "source": []
  }
 ],
 "metadata": {
  "interpreter": {
   "hash": "550b2aa9e6f946421f393ff0a4d2a058fae812000daeeeaa5871f80798801366"
  },
  "kernelspec": {
   "display_name": "Python 3.8.12 64-bit ('Env_nn': conda)",
   "name": "python3"
  },
  "language_info": {
   "codemirror_mode": {
    "name": "ipython",
    "version": 3
   },
   "file_extension": ".py",
   "mimetype": "text/x-python",
   "name": "python",
   "nbconvert_exporter": "python",
   "pygments_lexer": "ipython3",
   "version": "3.8.12"
  },
  "orig_nbformat": 4
 },
 "nbformat": 4,
 "nbformat_minor": 2
}
