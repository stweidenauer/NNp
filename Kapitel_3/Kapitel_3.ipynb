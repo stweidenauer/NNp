{
 "cells": [
  {
   "cell_type": "markdown",
   "metadata": {},
   "source": [
    "# Kapitel 3"
   ]
  },
  {
   "cell_type": "markdown",
   "metadata": {},
   "source": [
    "# Deaktivierung der Warnungen"
   ]
  },
  {
   "cell_type": "code",
   "execution_count": 3,
   "metadata": {},
   "outputs": [],
   "source": [
    "import warnings\n",
    "warnings.filterwarnings('ignore')"
   ]
  },
  {
   "cell_type": "markdown",
   "metadata": {},
   "source": [
    "# Die Entscheidung "
   ]
  },
  {
   "cell_type": "code",
   "execution_count": 2,
   "metadata": {},
   "outputs": [
    {
     "name": "stdout",
     "output_type": "stream",
     "text": [
      "Input : 1\n",
      "Output: 1\n"
     ]
    }
   ],
   "source": [
    "def entscheidung(summe):\n",
    "    \"\"\"Berechnung der Entscheidung zum Wert summe\n",
    "\n",
    "    Args:\n",
    "        summe (integer): [description]\n",
    "\n",
    "    Returns:\n",
    "        1 or 0: 1, if summe >= 1\n",
    "                0, else\n",
    "    \"\"\"\n",
    "    if summe >= 1:\n",
    "        return 1\n",
    "    else:\n",
    "        return 0\n",
    "#----------------------------------------------\n",
    "ergebnis =  entscheidung(1)\n",
    "print(F\"Input : {1}\")\n",
    "print(F\"Output: {ergebnis}\")\n"
   ]
  },
  {
   "cell_type": "markdown",
   "metadata": {},
   "source": [
    "# Dokumentationsstring"
   ]
  },
  {
   "cell_type": "code",
   "execution_count": 4,
   "metadata": {},
   "outputs": [
    {
     "name": "stdout",
     "output_type": "stream",
     "text": [
      "Berechnung der Entscheidung zum Wert summe\n",
      "\n",
      "    Args:\n",
      "        summe (integer): [description]\n",
      "\n",
      "    Returns:\n",
      "        1 or 0: 1, if summe >= 1\n",
      "                0, else\n",
      "    \n"
     ]
    }
   ],
   "source": [
    "# Ausgabe des Docstrings mittels help-Funktion\n",
    "print(entscheidung.__doc__)"
   ]
  },
  {
   "cell_type": "markdown",
   "metadata": {},
   "source": [
    "# Stufenfunktion\n",
    "Listing 3.2"
   ]
  },
  {
   "cell_type": "code",
   "execution_count": 19,
   "metadata": {},
   "outputs": [
    {
     "data": {
      "image/png": "[encoded data removed]",
      "text/plain": [
       "<Figure size 432x288 with 1 Axes>"
      ]
     },
     "metadata": {
      "needs_background": "light"
     },
     "output_type": "display_data"
    }
   ],
   "source": [
    "# Import der Module für Plots\n",
    "import matplotlib.pyplot as plt\n",
    "# wichtig, sonst wird der Plot nicht angezeigt\n",
    "%matplotlib inline\n",
    "\n",
    "def entscheidung(summe):\n",
    "    \"\"\"Berechnung der Entscheidung zum Wert summe\n",
    "\n",
    "    Args:\n",
    "        summe (integer): [description]\n",
    "\n",
    "    Returns:\n",
    "        1 or 0: 1, if summe >= 1\n",
    "                0, else\n",
    "    \"\"\"\n",
    "    if summe >= 1:\n",
    "        return 1\n",
    "    else:\n",
    "        return 0\n",
    "#------------------------------\n",
    "# x Werte des Graphen\n",
    "x = [-1,0,0.999,1,2]\n",
    "# y Werte mit der Funktion entscheidung berechnen und mit Hilfe \n",
    "# einer List Comprehension eine neue Liste erzeugen (siehe Anhang A)  \n",
    "y = [ entscheidung(i) for i in x ]\n",
    "# Erzeugen des Graphen, mit einer orangen Stufe und Bezeichnung step\n",
    "plt.step(x, y, color='Orange', label='step')\n",
    "\n",
    "# Die Achsen setzen\n",
    "plt.grid(True)\n",
    "# Die horizontale und vertikale 0 Achse etwas dicker in schwarz zeichnen\n",
    "plt.axhline(0, color='black', lw=1)\n",
    "plt.axvline(0, color='black', lw=1)\n",
    "\n",
    "# Achsenbeschriftung und Titel\n",
    "plt.xlabel('Summe')\n",
    "plt.ylabel('Ergebnis')\n",
    "plt.title('Stufenfunktion')\n",
    "\n",
    "# Legenden Platzierung festlegen\n",
    "plt.legend(loc='center right')\n",
    "\n",
    "# Den Graph anzeigen\n",
    "plt.show()"
   ]
  },
  {
   "cell_type": "markdown",
   "metadata": {},
   "source": [
    "# Aufgabe: Planung mit Scatter-Plot\n",
    "Listing 3.3"
   ]
  },
  {
   "cell_type": "code",
   "execution_count": 25,
   "metadata": {},
   "outputs": [
    {
     "name": "stdout",
     "output_type": "stream",
     "text": [
      "Der Vektor x1:  [0 0 1 1]\n"
     ]
    },
    {
     "data": {
      "image/png": "[encoded data removed]",
      "text/plain": [
       "<Figure size 432x288 with 1 Axes>"
      ]
     },
     "metadata": {
      "needs_background": "light"
     },
     "output_type": "display_data"
    }
   ],
   "source": [
    "# Mathematik\n",
    "import numpy as np\n",
    "# Imprt der pyplot Funktionen\n",
    "import matplotlib.pyplot as plt\n",
    "# Ganz wichtig, sonst wird der Plot nicht angezeigt\n",
    "%matplotlib inline\n",
    "\n",
    "# Die Funktion array wandelt eine Python Liste in ein numpy Array um\n",
    "# Die x1 = x Koordinaten\n",
    "x1    = np.array([0, 0, 1, 1]) \n",
    "# Die x2 = y Koordinaten\n",
    "x2    = np.array([0, 1, 0, 1]) \n",
    "# Die Farben für die Punkte\n",
    "color = np.array(['black', 'black', 'red', 'black']) \n",
    "# Die Punktgröße für jeden Punkt\n",
    "size  = np.array([100, 100, 500, 100]) \n",
    "\n",
    "# Den Vektor x1 mit allen x1 Koordinaten ausgeben\n",
    "print('Der Vektor x1: ', x1)\n",
    "\n",
    "# Die Achsen setzen\n",
    "plt.grid(True)\n",
    "\n",
    "# Den Plot zeichnen für x1 und x2 Koordinaten, Farbe und Größe\n",
    "plt.scatter(x1, x2, c=color, s=size)\n",
    "\n",
    "# Achsen beschriften\n",
    "plt.xlabel(\"x1\")\n",
    "plt.ylabel(\"x2\")\n",
    "\n",
    "# Die Achseneinteilungen setzen\n",
    "plt.xticks([0.0,1.0])\n",
    "plt.yticks([0.0,1.0])\n",
    "\n",
    "# Endlich die figure ausgeben\n",
    "plt.show()\n"
   ]
  },
  {
   "cell_type": "markdown",
   "metadata": {},
   "source": [
    "# Aufgabe: Iris Datensatz als Scatter plot\n",
    "Listing 3.4"
   ]
  },
  {
   "cell_type": "code",
   "execution_count": 20,
   "metadata": {},
   "outputs": [
    {
     "data": {
      "image/png": "[encoded data removed]",
      "text/plain": [
       "<Figure size 432x288 with 1 Axes>"
      ]
     },
     "metadata": {
      "needs_background": "light"
     },
     "output_type": "display_data"
    }
   ],
   "source": [
    "# Mathematik\n",
    "import numpy as np\n",
    "# Imprt der pyplot Funktionen\n",
    "import matplotlib.pyplot as plt\n",
    "# Ganz wichtig, sonst wird der Plot nicht angezeigt\n",
    "%matplotlib inline\n",
    "\n",
    "# x1 = x-Achse, x2 = y-Achse\n",
    "x1 = []\n",
    "x2 = []\n",
    "# Farben der Datenpunkte\n",
    "colors = []\n",
    "iris_colors = { 'Iris-setosa' : 'red',\n",
    "                'Iris-versicolor' : 'green',\n",
    "                'Iris-virginica' : 'blue'\n",
    "              }\n",
    "\n",
    "with open (\"iris.csv\") as fobj:\n",
    "    for line in fobj:\n",
    "        # print(line)\n",
    "        help = line.strip().split(\",\")\n",
    "        if len(help) != 5:\n",
    "            continue\n",
    "        x1.append(help[0])\n",
    "        x2.append(help[1])\n",
    "        colors.append(iris_colors[help[4]])\n",
    "        # print(x1, x2, colors)\n",
    "        # break\n",
    "\n",
    "\n",
    "\n",
    "# Die Achsen setzen\n",
    "plt.grid(True)\n",
    "\n",
    "# Den Plot zeichnen für x1 und x2 Koordinaten, Farbe und Größe\n",
    "plt.scatter(x1, x2, c=colors)\n",
    "\n",
    "# Achsen beschriften\n",
    "plt.xlabel(\"x1\")\n",
    "plt.ylabel(\"x2\")\n",
    "\n",
    "\n",
    "# Endlich die figure ausgeben\n",
    "plt.show()"
   ]
  },
  {
   "cell_type": "code",
   "execution_count": null,
   "metadata": {},
   "outputs": [],
   "source": []
  }
 ],
 "metadata": {
  "interpreter": {
   "hash": "3ca4c08b19ec6eebf78f28cd168ddb86bc9f7dd2b5c416388e7c951e8b1cef0f"
  },
  "kernelspec": {
   "display_name": "Python 3.8.12 64-bit ('Env_nn': conda)",
   "name": "python3"
  },
  "language_info": {
   "codemirror_mode": {
    "name": "ipython",
    "version": 3
   },
   "file_extension": ".py",
   "mimetype": "text/x-python",
   "name": "python",
   "nbconvert_exporter": "python",
   "pygments_lexer": "ipython3",
   "version": "3.8.12"
  },
  "orig_nbformat": 4
 },
 "nbformat": 4,
 "nbformat_minor": 2
}
