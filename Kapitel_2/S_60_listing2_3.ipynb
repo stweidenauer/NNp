{
 "cells": [
  {
   "cell_type": "code",
   "execution_count": null,
   "source": [
    "def fehlerfun(x, y):\r\n",
    "    return x / y\r\n",
    "\r\n",
    "def avg_beelength(valuelist):\r\n",
    "    total = sum(valuelist)\r\n",
    "    count = len(valuelist)\r\n",
    "\r\n",
    "    return fehlerfun(total, count)\r\n",
    "\r\n",
    "bees = (3, 3.5, 4.1, 5.2, 5, 2)\r\n",
    "nobees = ()\r\n",
    "\r\n",
    "avg_beelength(bees)\r\n",
    "\r\n",
    "print(type(bees))"
   ],
   "outputs": [],
   "metadata": {}
  },
  {
   "cell_type": "code",
   "execution_count": null,
   "source": [
    "# %xmode Fehleranzeige\r\n",
    "# Context liefert Funktionenfolge\r\n",
    "# Verbose ausführlich\r\n",
    "\r\n",
    "%xmode Verbose\r\n",
    "avg_beelength(nobees)"
   ],
   "outputs": [],
   "metadata": {}
  },
  {
   "cell_type": "code",
   "execution_count": null,
   "source": [],
   "outputs": [],
   "metadata": {}
  }
 ],
 "metadata": {
  "orig_nbformat": 4,
  "language_info": {
   "name": "python",
   "version": "3.9.7",
   "mimetype": "text/x-python",
   "codemirror_mode": {
    "name": "ipython",
    "version": 3
   },
   "pygments_lexer": "ipython3",
   "nbconvert_exporter": "python",
   "file_extension": ".py"
  },
  "kernelspec": {
   "name": "python3",
   "display_name": "Python 3.9.7 64-bit ('Env_nn': conda)"
  },
  "interpreter": {
   "hash": "fb715ccc924b779d61224dfcb07708ed9982dfe78ba06e5ebf24b7ee34d575aa"
  }
 },
 "nbformat": 4,
 "nbformat_minor": 2
}